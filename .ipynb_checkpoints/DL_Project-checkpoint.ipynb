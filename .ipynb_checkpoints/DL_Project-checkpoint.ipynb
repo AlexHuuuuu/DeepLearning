{
 "cells": [
  {
   "cell_type": "code",
   "execution_count": 0,
   "metadata": {
    "colab": {},
    "colab_type": "code",
    "id": "IE9SvYFiYwJ6"
   },
   "outputs": [],
   "source": [
    "from google.colab import drive\n",
    "drive.mount('/content/drive')"
   ]
  },
  {
   "cell_type": "code",
   "execution_count": 1,
   "metadata": {
    "colab": {},
    "colab_type": "code",
    "id": "1vfXzhcWmdr2"
   },
   "outputs": [],
   "source": [
    "import scipy.io as sio\n",
    "import numpy as np\n",
    "\n",
    "import torch\n",
    "import torch.nn as nn\n",
    "import torch.optim as optim\n",
    "from torch.optim import lr_scheduler\n",
    "import torchvision\n",
    "from torch.autograd import Variable\n",
    "from torchvision import datasets, models, transforms\n",
    "from torch.utils.data import Dataset\n",
    "from torchvision.utils import make_grid\n",
    "import os\n",
    "import numpy as np\n",
    "import matplotlib.pyplot as plt\n",
    "from sklearn.metrics import confusion_matrix"
   ]
  },
  {
   "cell_type": "code",
   "execution_count": 2,
   "metadata": {},
   "outputs": [
    {
     "data": {
      "text/plain": [
       "'GeForce GTX 1060 6GB'"
      ]
     },
     "execution_count": 2,
     "metadata": {},
     "output_type": "execute_result"
    }
   ],
   "source": [
    "torch.cuda.is_available()\n",
    "torch.cuda.get_device_name(0)"
   ]
  },
  {
   "cell_type": "code",
   "execution_count": null,
   "metadata": {
    "colab": {},
    "colab_type": "code",
    "id": "6tNKj9phmd2W"
   },
   "outputs": [],
   "source": [
    "# for colab\n",
    "# scipy_sio = sio.loadmat('/content/drive/My Drive/Colab Notebooks/cars_annos.mat', squeeze_me = True)   \n",
    "# scipy_sio"
   ]
  },
  {
   "cell_type": "code",
   "execution_count": 4,
   "metadata": {
    "colab": {},
    "colab_type": "code",
    "id": "unDqmPApsdBR"
   },
   "outputs": [
    {
     "data": {
      "text/plain": [
       "{'__header__': b'MATLAB 5.0 MAT-file, Platform: GLNXA64, Created on: Sat Feb 28 19:34:55 2015',\n",
       " '__version__': '1.0',\n",
       " '__globals__': [],\n",
       " 'annotations': array([('car_ims/000001.jpg', 112, 7, 853, 717, 1, 0),\n",
       "        ('car_ims/000002.jpg', 48, 24, 441, 202, 1, 0),\n",
       "        ('car_ims/000003.jpg', 7, 4, 277, 180, 1, 0), ...,\n",
       "        ('car_ims/016183.jpg', 25, 32, 587, 359, 196, 1),\n",
       "        ('car_ims/016184.jpg', 56, 60, 208, 186, 196, 1),\n",
       "        ('car_ims/016185.jpg', 1, 1, 200, 131, 196, 1)],\n",
       "       dtype=[('relative_im_path', 'O'), ('bbox_x1', 'O'), ('bbox_y1', 'O'), ('bbox_x2', 'O'), ('bbox_y2', 'O'), ('class', 'O'), ('test', 'O')]),\n",
       " 'class_names': array(['AM General Hummer SUV 2000', 'Acura RL Sedan 2012',\n",
       "        'Acura TL Sedan 2012', 'Acura TL Type-S 2008',\n",
       "        'Acura TSX Sedan 2012', 'Acura Integra Type R 2001',\n",
       "        'Acura ZDX Hatchback 2012',\n",
       "        'Aston Martin V8 Vantage Convertible 2012',\n",
       "        'Aston Martin V8 Vantage Coupe 2012',\n",
       "        'Aston Martin Virage Convertible 2012',\n",
       "        'Aston Martin Virage Coupe 2012', 'Audi RS 4 Convertible 2008',\n",
       "        'Audi A5 Coupe 2012', 'Audi TTS Coupe 2012', 'Audi R8 Coupe 2012',\n",
       "        'Audi V8 Sedan 1994', 'Audi 100 Sedan 1994', 'Audi 100 Wagon 1994',\n",
       "        'Audi TT Hatchback 2011', 'Audi S6 Sedan 2011',\n",
       "        'Audi S5 Convertible 2012', 'Audi S5 Coupe 2012',\n",
       "        'Audi S4 Sedan 2012', 'Audi S4 Sedan 2007',\n",
       "        'Audi TT RS Coupe 2012', 'BMW ActiveHybrid 5 Sedan 2012',\n",
       "        'BMW 1 Series Convertible 2012', 'BMW 1 Series Coupe 2012',\n",
       "        'BMW 3 Series Sedan 2012', 'BMW 3 Series Wagon 2012',\n",
       "        'BMW 6 Series Convertible 2007', 'BMW X5 SUV 2007',\n",
       "        'BMW X6 SUV 2012', 'BMW M3 Coupe 2012', 'BMW M5 Sedan 2010',\n",
       "        'BMW M6 Convertible 2010', 'BMW X3 SUV 2012',\n",
       "        'BMW Z4 Convertible 2012',\n",
       "        'Bentley Continental Supersports Conv. Convertible 2012',\n",
       "        'Bentley Arnage Sedan 2009', 'Bentley Mulsanne Sedan 2011',\n",
       "        'Bentley Continental GT Coupe 2012',\n",
       "        'Bentley Continental GT Coupe 2007',\n",
       "        'Bentley Continental Flying Spur Sedan 2007',\n",
       "        'Bugatti Veyron 16.4 Convertible 2009',\n",
       "        'Bugatti Veyron 16.4 Coupe 2009', 'Buick Regal GS 2012',\n",
       "        'Buick Rainier SUV 2007', 'Buick Verano Sedan 2012',\n",
       "        'Buick Enclave SUV 2012', 'Cadillac CTS-V Sedan 2012',\n",
       "        'Cadillac SRX SUV 2012', 'Cadillac Escalade EXT Crew Cab 2007',\n",
       "        'Chevrolet Silverado 1500 Hybrid Crew Cab 2012',\n",
       "        'Chevrolet Corvette Convertible 2012',\n",
       "        'Chevrolet Corvette ZR1 2012',\n",
       "        'Chevrolet Corvette Ron Fellows Edition Z06 2007',\n",
       "        'Chevrolet Traverse SUV 2012', 'Chevrolet Camaro Convertible 2012',\n",
       "        'Chevrolet HHR SS 2010', 'Chevrolet Impala Sedan 2007',\n",
       "        'Chevrolet Tahoe Hybrid SUV 2012', 'Chevrolet Sonic Sedan 2012',\n",
       "        'Chevrolet Express Cargo Van 2007',\n",
       "        'Chevrolet Avalanche Crew Cab 2012', 'Chevrolet Cobalt SS 2010',\n",
       "        'Chevrolet Malibu Hybrid Sedan 2010',\n",
       "        'Chevrolet TrailBlazer SS 2009',\n",
       "        'Chevrolet Silverado 2500HD Regular Cab 2012',\n",
       "        'Chevrolet Silverado 1500 Classic Extended Cab 2007',\n",
       "        'Chevrolet Express Van 2007', 'Chevrolet Monte Carlo Coupe 2007',\n",
       "        'Chevrolet Malibu Sedan 2007',\n",
       "        'Chevrolet Silverado 1500 Extended Cab 2012',\n",
       "        'Chevrolet Silverado 1500 Regular Cab 2012',\n",
       "        'Chrysler Aspen SUV 2009', 'Chrysler Sebring Convertible 2010',\n",
       "        'Chrysler Town and Country Minivan 2012',\n",
       "        'Chrysler 300 SRT-8 2010', 'Chrysler Crossfire Convertible 2008',\n",
       "        'Chrysler PT Cruiser Convertible 2008', 'Daewoo Nubira Wagon 2002',\n",
       "        'Dodge Caliber Wagon 2012', 'Dodge Caliber Wagon 2007',\n",
       "        'Dodge Caravan Minivan 1997',\n",
       "        'Dodge Ram Pickup 3500 Crew Cab 2010',\n",
       "        'Dodge Ram Pickup 3500 Quad Cab 2009',\n",
       "        'Dodge Sprinter Cargo Van 2009', 'Dodge Journey SUV 2012',\n",
       "        'Dodge Dakota Crew Cab 2010', 'Dodge Dakota Club Cab 2007',\n",
       "        'Dodge Magnum Wagon 2008', 'Dodge Challenger SRT8 2011',\n",
       "        'Dodge Durango SUV 2012', 'Dodge Durango SUV 2007',\n",
       "        'Dodge Charger Sedan 2012', 'Dodge Charger SRT-8 2009',\n",
       "        'Eagle Talon Hatchback 1998', 'FIAT 500 Abarth 2012',\n",
       "        'FIAT 500 Convertible 2012', 'Ferrari FF Coupe 2012',\n",
       "        'Ferrari California Convertible 2012',\n",
       "        'Ferrari 458 Italia Convertible 2012',\n",
       "        'Ferrari 458 Italia Coupe 2012', 'Fisker Karma Sedan 2012',\n",
       "        'Ford F-450 Super Duty Crew Cab 2012',\n",
       "        'Ford Mustang Convertible 2007', 'Ford Freestar Minivan 2007',\n",
       "        'Ford Expedition EL SUV 2009', 'Ford Edge SUV 2012',\n",
       "        'Ford Ranger SuperCab 2011', 'Ford GT Coupe 2006',\n",
       "        'Ford F-150 Regular Cab 2012', 'Ford F-150 Regular Cab 2007',\n",
       "        'Ford Focus Sedan 2007', 'Ford E-Series Wagon Van 2012',\n",
       "        'Ford Fiesta Sedan 2012', 'GMC Terrain SUV 2012',\n",
       "        'GMC Savana Van 2012', 'GMC Yukon Hybrid SUV 2012',\n",
       "        'GMC Acadia SUV 2012', 'GMC Canyon Extended Cab 2012',\n",
       "        'Geo Metro Convertible 1993', 'HUMMER H3T Crew Cab 2010',\n",
       "        'HUMMER H2 SUT Crew Cab 2009', 'Honda Odyssey Minivan 2012',\n",
       "        'Honda Odyssey Minivan 2007', 'Honda Accord Coupe 2012',\n",
       "        'Honda Accord Sedan 2012', 'Hyundai Veloster Hatchback 2012',\n",
       "        'Hyundai Santa Fe SUV 2012', 'Hyundai Tucson SUV 2012',\n",
       "        'Hyundai Veracruz SUV 2012', 'Hyundai Sonata Hybrid Sedan 2012',\n",
       "        'Hyundai Elantra Sedan 2007', 'Hyundai Accent Sedan 2012',\n",
       "        'Hyundai Genesis Sedan 2012', 'Hyundai Sonata Sedan 2012',\n",
       "        'Hyundai Elantra Touring Hatchback 2012',\n",
       "        'Hyundai Azera Sedan 2012', 'Infiniti G Coupe IPL 2012',\n",
       "        'Infiniti QX56 SUV 2011', 'Isuzu Ascender SUV 2008',\n",
       "        'Jaguar XK XKR 2012', 'Jeep Patriot SUV 2012',\n",
       "        'Jeep Wrangler SUV 2012', 'Jeep Liberty SUV 2012',\n",
       "        'Jeep Grand Cherokee SUV 2012', 'Jeep Compass SUV 2012',\n",
       "        'Lamborghini Reventon Coupe 2008',\n",
       "        'Lamborghini Aventador Coupe 2012',\n",
       "        'Lamborghini Gallardo LP 570-4 Superleggera 2012',\n",
       "        'Lamborghini Diablo Coupe 2001', 'Land Rover Range Rover SUV 2012',\n",
       "        'Land Rover LR2 SUV 2012', 'Lincoln Town Car Sedan 2011',\n",
       "        'MINI Cooper Roadster Convertible 2012',\n",
       "        'Maybach Landaulet Convertible 2012', 'Mazda Tribute SUV 2011',\n",
       "        'McLaren MP4-12C Coupe 2012',\n",
       "        'Mercedes-Benz 300-Class Convertible 1993',\n",
       "        'Mercedes-Benz C-Class Sedan 2012',\n",
       "        'Mercedes-Benz SL-Class Coupe 2009',\n",
       "        'Mercedes-Benz E-Class Sedan 2012',\n",
       "        'Mercedes-Benz S-Class Sedan 2012',\n",
       "        'Mercedes-Benz Sprinter Van 2012', 'Mitsubishi Lancer Sedan 2012',\n",
       "        'Nissan Leaf Hatchback 2012', 'Nissan NV Passenger Van 2012',\n",
       "        'Nissan Juke Hatchback 2012', 'Nissan 240SX Coupe 1998',\n",
       "        'Plymouth Neon Coupe 1999', 'Porsche Panamera Sedan 2012',\n",
       "        'Ram C/V Cargo Van Minivan 2012',\n",
       "        'Rolls-Royce Phantom Drophead Coupe Convertible 2012',\n",
       "        'Rolls-Royce Ghost Sedan 2012', 'Rolls-Royce Phantom Sedan 2012',\n",
       "        'Scion xD Hatchback 2012', 'Spyker C8 Convertible 2009',\n",
       "        'Spyker C8 Coupe 2009', 'Suzuki Aerio Sedan 2007',\n",
       "        'Suzuki Kizashi Sedan 2012', 'Suzuki SX4 Hatchback 2012',\n",
       "        'Suzuki SX4 Sedan 2012', 'Tesla Model S Sedan 2012',\n",
       "        'Toyota Sequoia SUV 2012', 'Toyota Camry Sedan 2012',\n",
       "        'Toyota Corolla Sedan 2012', 'Toyota 4Runner SUV 2012',\n",
       "        'Volkswagen Golf Hatchback 2012', 'Volkswagen Golf Hatchback 1991',\n",
       "        'Volkswagen Beetle Hatchback 2012', 'Volvo C30 Hatchback 2012',\n",
       "        'Volvo 240 Sedan 1993', 'Volvo XC90 SUV 2007',\n",
       "        'smart fortwo Convertible 2012'], dtype=object)}"
      ]
     },
     "execution_count": 4,
     "metadata": {},
     "output_type": "execute_result"
    }
   ],
   "source": [
    "scipy_sio = sio.loadmat('cars_annos.mat', squeeze_me = True)   \n",
    "scipy_sio"
   ]
  },
  {
   "cell_type": "code",
   "execution_count": 5,
   "metadata": {
    "colab": {},
    "colab_type": "code",
    "id": "UgBBK3-IsdE3"
   },
   "outputs": [
    {
     "data": {
      "text/plain": [
       "array(['AM General Hummer SUV 2000', 'Acura RL Sedan 2012',\n",
       "       'Acura TL Sedan 2012', 'Acura TL Type-S 2008',\n",
       "       'Acura TSX Sedan 2012', 'Acura Integra Type R 2001',\n",
       "       'Acura ZDX Hatchback 2012',\n",
       "       'Aston Martin V8 Vantage Convertible 2012',\n",
       "       'Aston Martin V8 Vantage Coupe 2012',\n",
       "       'Aston Martin Virage Convertible 2012'], dtype=object)"
      ]
     },
     "execution_count": 5,
     "metadata": {},
     "output_type": "execute_result"
    }
   ],
   "source": [
    "#extract class_names\n",
    "class_name = scipy_sio['class_names']\n",
    "class_name[0:10]\n",
    "# has linkage to annotation['class']"
   ]
  },
  {
   "cell_type": "code",
   "execution_count": 6,
   "metadata": {
    "colab": {},
    "colab_type": "code",
    "id": "Ex6avH0rsrmS"
   },
   "outputs": [
    {
     "data": {
      "text/plain": [
       "array([('car_ims/000001.jpg', 112, 7, 853, 717, 1, 0),\n",
       "       ('car_ims/000002.jpg', 48, 24, 441, 202, 1, 0),\n",
       "       ('car_ims/000003.jpg', 7, 4, 277, 180, 1, 0),\n",
       "       ('car_ims/000004.jpg', 33, 50, 197, 150, 1, 0),\n",
       "       ('car_ims/000005.jpg', 5, 8, 83, 58, 1, 0)],\n",
       "      dtype=[('relative_im_path', 'O'), ('bbox_x1', 'O'), ('bbox_y1', 'O'), ('bbox_x2', 'O'), ('bbox_y2', 'O'), ('class', 'O'), ('test', 'O')])"
      ]
     },
     "execution_count": 6,
     "metadata": {},
     "output_type": "execute_result"
    }
   ],
   "source": [
    "#extract annotations, contains 7 variables\n",
    "annotation = scipy_sio['annotations']\n",
    "annotation[0:5]\n",
    "# 7 values:\n",
    "# 0: relative_im_path:  image location & name\n",
    "# 1: bbox_x1:           Min x-value of the bounding box, in pixels\n",
    "# 2: bbox_y1:           Min y-value of the bounding box, in pixels\n",
    "# 3: bbox_x2:           Max x-value of the bounding box, in pixels\n",
    "# 4: bbox_y2:           Max y-value of the bounding box, in pixels\n",
    "# 5: class:             Target model, ex: img 000001-000003 have class = 1, so it is 'AM General Hummer SUV 2000'\n",
    "# 6: test:              test = 1, train = 0\n"
   ]
  },
  {
   "cell_type": "code",
   "execution_count": 7,
   "metadata": {
    "colab": {},
    "colab_type": "code",
    "id": "7s-zxSv6sdK7"
   },
   "outputs": [
    {
     "data": {
      "text/plain": [
       "['car_ims/000001.jpg',\n",
       " 112,\n",
       " 7,\n",
       " 853,\n",
       " 717,\n",
       " 1,\n",
       " 0,\n",
       " 'car_ims/000002.jpg',\n",
       " 48,\n",
       " 24,\n",
       " 441,\n",
       " 202,\n",
       " 1,\n",
       " 0]"
      ]
     },
     "execution_count": 7,
     "metadata": {},
     "output_type": "execute_result"
    }
   ],
   "source": [
    "#convert annotation [array of tuples] to 1D array\n",
    "annotation_array = [a for b in annotation for a in b]\n",
    "annotation_array[0:14]"
   ]
  },
  {
   "cell_type": "code",
   "execution_count": 8,
   "metadata": {
    "colab": {},
    "colab_type": "code",
    "id": "UXxMcGwCsdOQ"
   },
   "outputs": [
    {
     "data": {
      "text/plain": [
       "array([['car_ims/000001.jpg', '112', '7', '853', '717', '1', '0'],\n",
       "       ['car_ims/000002.jpg', '48', '24', '441', '202', '1', '0'],\n",
       "       ['car_ims/000003.jpg', '7', '4', '277', '180', '1', '0'],\n",
       "       ['car_ims/000004.jpg', '33', '50', '197', '150', '1', '0'],\n",
       "       ['car_ims/000005.jpg', '5', '8', '83', '58', '1', '0']],\n",
       "      dtype='<U18')"
      ]
     },
     "execution_count": 8,
     "metadata": {},
     "output_type": "execute_result"
    }
   ],
   "source": [
    "#convert 1D array into 7d array/matrix\n",
    "annotation_matrix = np.reshape(annotation_array, (-1,7))\n",
    "#annotation_matrix = annotation_matrix.tolist()    #remove dtype\n",
    "annotation_matrix[0:5]"
   ]
  },
  {
   "cell_type": "code",
   "execution_count": 9,
   "metadata": {
    "colab": {},
    "colab_type": "code",
    "id": "mt1uu24j5Mhx"
   },
   "outputs": [],
   "source": [
    "# ex: extract class variable\n",
    "tgt_class = annotation_matrix[:,5]\n",
    "tgt_class = tgt_class.tolist()"
   ]
  },
  {
   "cell_type": "code",
   "execution_count": 10,
   "metadata": {
    "colab": {},
    "colab_type": "code",
    "id": "U8u24Naz77jc"
   },
   "outputs": [
    {
     "data": {
      "text/plain": [
       "196"
      ]
     },
     "execution_count": 10,
     "metadata": {},
     "output_type": "execute_result"
    }
   ],
   "source": [
    "len(np.unique(tgt_class))\n",
    "#there are 196 unique classes in annotation matrix"
   ]
  },
  {
   "cell_type": "code",
   "execution_count": 11,
   "metadata": {
    "colab": {},
    "colab_type": "code",
    "id": "sx5mueBy8h2k"
   },
   "outputs": [
    {
     "data": {
      "text/plain": [
       "196"
      ]
     },
     "execution_count": 11,
     "metadata": {},
     "output_type": "execute_result"
    }
   ],
   "source": [
    "len(np.unique(class_name))\n",
    "#there are 196 different classes in array class_name"
   ]
  },
  {
   "cell_type": "code",
   "execution_count": 0,
   "metadata": {
    "colab": {},
    "colab_type": "code",
    "id": "CnTdnx6d-2H9"
   },
   "outputs": [],
   "source": []
  }
 ],
 "metadata": {
  "colab": {
   "name": "DL_Project.ipynb",
   "private_outputs": true,
   "provenance": []
  },
  "kernelspec": {
   "display_name": "Python 3",
   "language": "python",
   "name": "python3"
  },
  "language_info": {
   "codemirror_mode": {
    "name": "ipython",
    "version": 3
   },
   "file_extension": ".py",
   "mimetype": "text/x-python",
   "name": "python",
   "nbconvert_exporter": "python",
   "pygments_lexer": "ipython3",
   "version": "3.7.4"
  }
 },
 "nbformat": 4,
 "nbformat_minor": 1
}
