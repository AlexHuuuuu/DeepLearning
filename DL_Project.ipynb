{
 "cells": [
  {
   "cell_type": "code",
   "execution_count": 0,
   "metadata": {
    "colab": {},
    "colab_type": "code",
    "id": "IE9SvYFiYwJ6"
   },
   "outputs": [],
   "source": [
    "from google.colab import drive\n",
    "drive.mount('/content/drive')"
   ]
  },
  {
   "cell_type": "code",
   "execution_count": 1,
   "metadata": {
    "colab": {},
    "colab_type": "code",
    "id": "1vfXzhcWmdr2"
   },
   "outputs": [],
   "source": [
    "import scipy.io as sio\n",
    "import numpy as np\n",
    "\n",
    "import torch\n",
    "import torch.nn as nn\n",
    "import torch.optim as optim\n",
    "from torch.optim import lr_scheduler\n",
    "import torchvision\n",
    "from torch.autograd import Variable\n",
    "from torchvision import datasets, models, transforms\n",
    "from torch.utils.data import Dataset\n",
    "from torchvision.utils import make_grid\n",
    "import os\n",
    "import numpy as np\n",
    "import matplotlib.pyplot as plt\n",
    "from sklearn.metrics import confusion_matrix"
   ]
  },
  {
   "cell_type": "code",
   "execution_count": 2,
   "metadata": {},
   "outputs": [
    {
     "data": {
      "text/plain": [
       "'GeForce GTX 1060 6GB'"
      ]
     },
     "execution_count": 2,
     "metadata": {},
     "output_type": "execute_result"
    }
   ],
   "source": [
    "torch.cuda.is_available()\n",
    "torch.cuda.get_device_name(0)"
   ]
  },
  {
   "cell_type": "code",
   "execution_count": null,
   "metadata": {
    "colab": {},
    "colab_type": "code",
    "id": "6tNKj9phmd2W"
   },
   "outputs": [],
   "source": [
    "# for colab\n",
    "# scipy_sio = sio.loadmat('/content/drive/My Drive/Colab Notebooks/cars_annos.mat', squeeze_me = True)   \n",
    "# scipy_sio"
   ]
  },
  {
   "cell_type": "code",
   "execution_count": 4,
   "metadata": {
    "colab": {},
    "colab_type": "code",
    "id": "unDqmPApsdBR"
   },
   "outputs": [
    {
     "data": {
      "text/plain": [
       "{'__header__': b'MATLAB 5.0 MAT-file, Platform: GLNXA64, Created on: Sat Feb 28 19:34:55 2015',\n",
       " '__version__': '1.0',\n",
       " '__globals__': [],\n",
       " 'annotations': array([('car_ims/000001.jpg', 112, 7, 853, 717, 1, 0),\n",
       "        ('car_ims/000002.jpg', 48, 24, 441, 202, 1, 0),\n",
       "        ('car_ims/000003.jpg', 7, 4, 277, 180, 1, 0), ...,\n",
       "        ('car_ims/016183.jpg', 25, 32, 587, 359, 196, 1),\n",
       "        ('car_ims/016184.jpg', 56, 60, 208, 186, 196, 1),\n",
       "        ('car_ims/016185.jpg', 1, 1, 200, 131, 196, 1)],\n",
       "       dtype=[('relative_im_path', 'O'), ('bbox_x1', 'O'), ('bbox_y1', 'O'), ('bbox_x2', 'O'), ('bbox_y2', 'O'), ('class', 'O'), ('test', 'O')]),\n",
       " 'class_names': array(['AM General Hummer SUV 2000', 'Acura RL Sedan 2012',\n",
       "        'Acura TL Sedan 2012', 'Acura TL Type-S 2008',\n",
       "        'Acura TSX Sedan 2012', 'Acura Integra Type R 2001',\n",
       "        'Acura ZDX Hatchback 2012',\n",
       "        'Aston Martin V8 Vantage Convertible 2012',\n",
       "        'Aston Martin V8 Vantage Coupe 2012',\n",
       "        'Aston Martin Virage Convertible 2012',\n",
       "        'Aston Martin Virage Coupe 2012', 'Audi RS 4 Convertible 2008',\n",
       "        'Audi A5 Coupe 2012', 'Audi TTS Coupe 2012', 'Audi R8 Coupe 2012',\n",
       "        'Audi V8 Sedan 1994', 'Audi 100 Sedan 1994', 'Audi 100 Wagon 1994',\n",
       "        'Audi TT Hatchback 2011', 'Audi S6 Sedan 2011',\n",
       "        'Audi S5 Convertible 2012', 'Audi S5 Coupe 2012',\n",
       "        'Audi S4 Sedan 2012', 'Audi S4 Sedan 2007',\n",
       "        'Audi TT RS Coupe 2012', 'BMW ActiveHybrid 5 Sedan 2012',\n",
       "        'BMW 1 Series Convertible 2012', 'BMW 1 Series Coupe 2012',\n",
       "        'BMW 3 Series Sedan 2012', 'BMW 3 Series Wagon 2012',\n",
       "        'BMW 6 Series Convertible 2007', 'BMW X5 SUV 2007',\n",
       "        'BMW X6 SUV 2012', 'BMW M3 Coupe 2012', 'BMW M5 Sedan 2010',\n",
       "        'BMW M6 Convertible 2010', 'BMW X3 SUV 2012',\n",
       "        'BMW Z4 Convertible 2012',\n",
       "        'Bentley Continental Supersports Conv. Convertible 2012',\n",
       "        'Bentley Arnage Sedan 2009', 'Bentley Mulsanne Sedan 2011',\n",
       "        'Bentley Continental GT Coupe 2012',\n",
       "        'Bentley Continental GT Coupe 2007',\n",
       "        'Bentley Continental Flying Spur Sedan 2007',\n",
       "        'Bugatti Veyron 16.4 Convertible 2009',\n",
       "        'Bugatti Veyron 16.4 Coupe 2009', 'Buick Regal GS 2012',\n",
       "        'Buick Rainier SUV 2007', 'Buick Verano Sedan 2012',\n",
       "        'Buick Enclave SUV 2012', 'Cadillac CTS-V Sedan 2012',\n",
       "        'Cadillac SRX SUV 2012', 'Cadillac Escalade EXT Crew Cab 2007',\n",
       "        'Chevrolet Silverado 1500 Hybrid Crew Cab 2012',\n",
       "        'Chevrolet Corvette Convertible 2012',\n",
       "        'Chevrolet Corvette ZR1 2012',\n",
       "        'Chevrolet Corvette Ron Fellows Edition Z06 2007',\n",
       "        'Chevrolet Traverse SUV 2012', 'Chevrolet Camaro Convertible 2012',\n",
       "        'Chevrolet HHR SS 2010', 'Chevrolet Impala Sedan 2007',\n",
       "        'Chevrolet Tahoe Hybrid SUV 2012', 'Chevrolet Sonic Sedan 2012',\n",
       "        'Chevrolet Express Cargo Van 2007',\n",
       "        'Chevrolet Avalanche Crew Cab 2012', 'Chevrolet Cobalt SS 2010',\n",
       "        'Chevrolet Malibu Hybrid Sedan 2010',\n",
       "        'Chevrolet TrailBlazer SS 2009',\n",
       "        'Chevrolet Silverado 2500HD Regular Cab 2012',\n",
       "        'Chevrolet Silverado 1500 Classic Extended Cab 2007',\n",
       "        'Chevrolet Express Van 2007', 'Chevrolet Monte Carlo Coupe 2007',\n",
       "        'Chevrolet Malibu Sedan 2007',\n",
       "        'Chevrolet Silverado 1500 Extended Cab 2012',\n",
       "        'Chevrolet Silverado 1500 Regular Cab 2012',\n",
       "        'Chrysler Aspen SUV 2009', 'Chrysler Sebring Convertible 2010',\n",
       "        'Chrysler Town and Country Minivan 2012',\n",
       "        'Chrysler 300 SRT-8 2010', 'Chrysler Crossfire Convertible 2008',\n",
       "        'Chrysler PT Cruiser Convertible 2008', 'Daewoo Nubira Wagon 2002',\n",
       "        'Dodge Caliber Wagon 2012', 'Dodge Caliber Wagon 2007',\n",
       "        'Dodge Caravan Minivan 1997',\n",
       "        'Dodge Ram Pickup 3500 Crew Cab 2010',\n",
       "        'Dodge Ram Pickup 3500 Quad Cab 2009',\n",
       "        'Dodge Sprinter Cargo Van 2009', 'Dodge Journey SUV 2012',\n",
       "        'Dodge Dakota Crew Cab 2010', 'Dodge Dakota Club Cab 2007',\n",
       "        'Dodge Magnum Wagon 2008', 'Dodge Challenger SRT8 2011',\n",
       "        'Dodge Durango SUV 2012', 'Dodge Durango SUV 2007',\n",
       "        'Dodge Charger Sedan 2012', 'Dodge Charger SRT-8 2009',\n",
       "        'Eagle Talon Hatchback 1998', 'FIAT 500 Abarth 2012',\n",
       "        'FIAT 500 Convertible 2012', 'Ferrari FF Coupe 2012',\n",
       "        'Ferrari California Convertible 2012',\n",
       "        'Ferrari 458 Italia Convertible 2012',\n",
       "        'Ferrari 458 Italia Coupe 2012', 'Fisker Karma Sedan 2012',\n",
       "        'Ford F-450 Super Duty Crew Cab 2012',\n",
       "        'Ford Mustang Convertible 2007', 'Ford Freestar Minivan 2007',\n",
       "        'Ford Expedition EL SUV 2009', 'Ford Edge SUV 2012',\n",
       "        'Ford Ranger SuperCab 2011', 'Ford GT Coupe 2006',\n",
       "        'Ford F-150 Regular Cab 2012', 'Ford F-150 Regular Cab 2007',\n",
       "        'Ford Focus Sedan 2007', 'Ford E-Series Wagon Van 2012',\n",
       "        'Ford Fiesta Sedan 2012', 'GMC Terrain SUV 2012',\n",
       "        'GMC Savana Van 2012', 'GMC Yukon Hybrid SUV 2012',\n",
       "        'GMC Acadia SUV 2012', 'GMC Canyon Extended Cab 2012',\n",
       "        'Geo Metro Convertible 1993', 'HUMMER H3T Crew Cab 2010',\n",
       "        'HUMMER H2 SUT Crew Cab 2009', 'Honda Odyssey Minivan 2012',\n",
       "        'Honda Odyssey Minivan 2007', 'Honda Accord Coupe 2012',\n",
       "        'Honda Accord Sedan 2012', 'Hyundai Veloster Hatchback 2012',\n",
       "        'Hyundai Santa Fe SUV 2012', 'Hyundai Tucson SUV 2012',\n",
       "        'Hyundai Veracruz SUV 2012', 'Hyundai Sonata Hybrid Sedan 2012',\n",
       "        'Hyundai Elantra Sedan 2007', 'Hyundai Accent Sedan 2012',\n",
       "        'Hyundai Genesis Sedan 2012', 'Hyundai Sonata Sedan 2012',\n",
       "        'Hyundai Elantra Touring Hatchback 2012',\n",
       "        'Hyundai Azera Sedan 2012', 'Infiniti G Coupe IPL 2012',\n",
       "        'Infiniti QX56 SUV 2011', 'Isuzu Ascender SUV 2008',\n",
       "        'Jaguar XK XKR 2012', 'Jeep Patriot SUV 2012',\n",
       "        'Jeep Wrangler SUV 2012', 'Jeep Liberty SUV 2012',\n",
       "        'Jeep Grand Cherokee SUV 2012', 'Jeep Compass SUV 2012',\n",
       "        'Lamborghini Reventon Coupe 2008',\n",
       "        'Lamborghini Aventador Coupe 2012',\n",
       "        'Lamborghini Gallardo LP 570-4 Superleggera 2012',\n",
       "        'Lamborghini Diablo Coupe 2001', 'Land Rover Range Rover SUV 2012',\n",
       "        'Land Rover LR2 SUV 2012', 'Lincoln Town Car Sedan 2011',\n",
       "        'MINI Cooper Roadster Convertible 2012',\n",
       "        'Maybach Landaulet Convertible 2012', 'Mazda Tribute SUV 2011',\n",
       "        'McLaren MP4-12C Coupe 2012',\n",
       "        'Mercedes-Benz 300-Class Convertible 1993',\n",
       "        'Mercedes-Benz C-Class Sedan 2012',\n",
       "        'Mercedes-Benz SL-Class Coupe 2009',\n",
       "        'Mercedes-Benz E-Class Sedan 2012',\n",
       "        'Mercedes-Benz S-Class Sedan 2012',\n",
       "        'Mercedes-Benz Sprinter Van 2012', 'Mitsubishi Lancer Sedan 2012',\n",
       "        'Nissan Leaf Hatchback 2012', 'Nissan NV Passenger Van 2012',\n",
       "        'Nissan Juke Hatchback 2012', 'Nissan 240SX Coupe 1998',\n",
       "        'Plymouth Neon Coupe 1999', 'Porsche Panamera Sedan 2012',\n",
       "        'Ram C/V Cargo Van Minivan 2012',\n",
       "        'Rolls-Royce Phantom Drophead Coupe Convertible 2012',\n",
       "        'Rolls-Royce Ghost Sedan 2012', 'Rolls-Royce Phantom Sedan 2012',\n",
       "        'Scion xD Hatchback 2012', 'Spyker C8 Convertible 2009',\n",
       "        'Spyker C8 Coupe 2009', 'Suzuki Aerio Sedan 2007',\n",
       "        'Suzuki Kizashi Sedan 2012', 'Suzuki SX4 Hatchback 2012',\n",
       "        'Suzuki SX4 Sedan 2012', 'Tesla Model S Sedan 2012',\n",
       "        'Toyota Sequoia SUV 2012', 'Toyota Camry Sedan 2012',\n",
       "        'Toyota Corolla Sedan 2012', 'Toyota 4Runner SUV 2012',\n",
       "        'Volkswagen Golf Hatchback 2012', 'Volkswagen Golf Hatchback 1991',\n",
       "        'Volkswagen Beetle Hatchback 2012', 'Volvo C30 Hatchback 2012',\n",
       "        'Volvo 240 Sedan 1993', 'Volvo XC90 SUV 2007',\n",
       "        'smart fortwo Convertible 2012'], dtype=object)}"
      ]
     },
     "execution_count": 4,
     "metadata": {},
     "output_type": "execute_result"
    }
   ],
   "source": [
    "scipy_sio = sio.loadmat('cars_annos.mat', squeeze_me = True)   \n",
    "scipy_sio"
   ]
  },
  {
   "cell_type": "code",
   "execution_count": 5,
   "metadata": {
    "colab": {},
    "colab_type": "code",
    "id": "UgBBK3-IsdE3"
   },
   "outputs": [
    {
     "data": {
      "text/plain": [
       "array(['AM General Hummer SUV 2000', 'Acura RL Sedan 2012',\n",
       "       'Acura TL Sedan 2012', 'Acura TL Type-S 2008',\n",
       "       'Acura TSX Sedan 2012', 'Acura Integra Type R 2001',\n",
       "       'Acura ZDX Hatchback 2012',\n",
       "       'Aston Martin V8 Vantage Convertible 2012',\n",
       "       'Aston Martin V8 Vantage Coupe 2012',\n",
       "       'Aston Martin Virage Convertible 2012'], dtype=object)"
      ]
     },
     "execution_count": 5,
     "metadata": {},
     "output_type": "execute_result"
    }
   ],
   "source": [
    "#extract class_names\n",
    "class_name = scipy_sio['class_names']\n",
    "class_name[0:10]\n",
    "# has linkage to annotation['class']"
   ]
  },
  {
   "cell_type": "code",
   "execution_count": 6,
   "metadata": {
    "colab": {},
    "colab_type": "code",
    "id": "Ex6avH0rsrmS"
   },
   "outputs": [
    {
     "data": {
      "text/plain": [
       "array([('car_ims/000001.jpg', 112, 7, 853, 717, 1, 0),\n",
       "       ('car_ims/000002.jpg', 48, 24, 441, 202, 1, 0),\n",
       "       ('car_ims/000003.jpg', 7, 4, 277, 180, 1, 0),\n",
       "       ('car_ims/000004.jpg', 33, 50, 197, 150, 1, 0),\n",
       "       ('car_ims/000005.jpg', 5, 8, 83, 58, 1, 0)],\n",
       "      dtype=[('relative_im_path', 'O'), ('bbox_x1', 'O'), ('bbox_y1', 'O'), ('bbox_x2', 'O'), ('bbox_y2', 'O'), ('class', 'O'), ('test', 'O')])"
      ]
     },
     "execution_count": 6,
     "metadata": {},
     "output_type": "execute_result"
    }
   ],
   "source": [
    "#extract annotations, contains 7 variables\n",
    "annotation = scipy_sio['annotations']\n",
    "annotation[0:5]\n",
    "# 7 values:\n",
    "# 0: relative_im_path:  image location & name\n",
    "# 1: bbox_x1:           Min x-value of the bounding box, in pixels\n",
    "# 2: bbox_y1:           Min y-value of the bounding box, in pixels\n",
    "# 3: bbox_x2:           Max x-value of the bounding box, in pixels\n",
    "# 4: bbox_y2:           Max y-value of the bounding box, in pixels\n",
    "# 5: class:             Target model, ex: img 000001-000003 have class = 1, so it is 'AM General Hummer SUV 2000'\n",
    "# 6: test:              test = 1, train = 0\n"
   ]
  },
  {
   "cell_type": "code",
   "execution_count": 7,
   "metadata": {
    "colab": {},
    "colab_type": "code",
    "id": "7s-zxSv6sdK7"
   },
   "outputs": [
    {
     "data": {
      "text/plain": [
       "['car_ims/000001.jpg',\n",
       " 112,\n",
       " 7,\n",
       " 853,\n",
       " 717,\n",
       " 1,\n",
       " 0,\n",
       " 'car_ims/000002.jpg',\n",
       " 48,\n",
       " 24,\n",
       " 441,\n",
       " 202,\n",
       " 1,\n",
       " 0]"
      ]
     },
     "execution_count": 7,
     "metadata": {},
     "output_type": "execute_result"
    }
   ],
   "source": [
    "#convert annotation [array of tuples] to 1D array\n",
    "annotation_array = [a for b in annotation for a in b]\n",
    "annotation_array[0:14]"
   ]
  },
  {
   "cell_type": "code",
   "execution_count": 8,
   "metadata": {
    "colab": {},
    "colab_type": "code",
    "id": "UXxMcGwCsdOQ"
   },
   "outputs": [
    {
     "data": {
      "text/plain": [
       "array([['car_ims/000001.jpg', '112', '7', '853', '717', '1', '0'],\n",
       "       ['car_ims/000002.jpg', '48', '24', '441', '202', '1', '0'],\n",
       "       ['car_ims/000003.jpg', '7', '4', '277', '180', '1', '0'],\n",
       "       ['car_ims/000004.jpg', '33', '50', '197', '150', '1', '0'],\n",
       "       ['car_ims/000005.jpg', '5', '8', '83', '58', '1', '0']],\n",
       "      dtype='<U18')"
      ]
     },
     "execution_count": 8,
     "metadata": {},
     "output_type": "execute_result"
    }
   ],
   "source": [
    "#convert 1D array into 7d array/matrix\n",
    "annotation_matrix = np.reshape(annotation_array, (-1,7))\n",
    "#annotation_matrix = annotation_matrix.tolist()    #remove dtype\n",
    "annotation_matrix[0:5]"
   ]
  },
  {
   "cell_type": "code",
   "execution_count": 109,
   "metadata": {
    "colab": {},
    "colab_type": "code",
    "id": "mt1uu24j5Mhx"
   },
   "outputs": [
    {
     "data": {
      "text/plain": [
       "16185"
      ]
     },
     "execution_count": 109,
     "metadata": {},
     "output_type": "execute_result"
    }
   ],
   "source": [
    "# ex: extract class variable\n",
    "tgt_class = annotation_matrix[:,5]\n",
    "tgt_class = tgt_class.tolist()\n",
    "len(tgt_class)"
   ]
  },
  {
   "cell_type": "code",
   "execution_count": 10,
   "metadata": {
    "colab": {},
    "colab_type": "code",
    "id": "U8u24Naz77jc"
   },
   "outputs": [
    {
     "data": {
      "text/plain": [
       "196"
      ]
     },
     "execution_count": 10,
     "metadata": {},
     "output_type": "execute_result"
    }
   ],
   "source": [
    "len(np.unique(tgt_class))\n",
    "#there are 196 unique classes in annotation matrix"
   ]
  },
  {
   "cell_type": "code",
   "execution_count": 11,
   "metadata": {
    "colab": {},
    "colab_type": "code",
    "id": "sx5mueBy8h2k"
   },
   "outputs": [
    {
     "data": {
      "text/plain": [
       "196"
      ]
     },
     "execution_count": 11,
     "metadata": {},
     "output_type": "execute_result"
    }
   ],
   "source": [
    "len(np.unique(class_name))\n",
    "#there are 196 different classes in array class_name"
   ]
  },
  {
   "cell_type": "code",
   "execution_count": 51,
   "metadata": {},
   "outputs": [],
   "source": [
    "# frequency function\n",
    "import collections \n",
    "def CountFrequency(arr): \n",
    "    return collections.Counter(arr)  \n",
    "\n",
    "\n"
   ]
  },
  {
   "cell_type": "code",
   "execution_count": 52,
   "metadata": {},
   "outputs": [
    {
     "name": "stdout",
     "output_type": "stream",
     "text": [
      "overall target class frequency, 196 unique classes across 16185 imgs\n"
     ]
    },
    {
     "data": {
      "image/png": "[encoded data removed]",
      "text/plain": [
       "<Figure size 432x288 with 1 Axes>"
      ]
     },
     "metadata": {},
     "output_type": "display_data"
    }
   ],
   "source": [
    "import matplotlib.pylab as plt\n",
    "#overall target class frequency, 196 unique classes across 16185 imgs\n",
    "\n",
    "freq = CountFrequency(tgt_class) \n",
    "lists = sorted(freq.items()) # sorted by key, return a list of tuples\n",
    "x, y = zip(*lists)\n",
    "print('overall target class frequency, 196 unique classes across 16185 imgs')\n",
    "plt.plot(x, y)\n",
    "plt.show()"
   ]
  },
  {
   "cell_type": "code",
   "execution_count": 106,
   "metadata": {},
   "outputs": [
    {
     "name": "stdout",
     "output_type": "stream",
     "text": [
      "Target ClassIDs that have records count out side 2stdv:\n",
      " ID: ['2', '45', '64', '99', '119', '136', '142', '158', '175']\n",
      "Count: [64, 65, 59, 55, 136, 48, 65, 58, 61]\n",
      "name: ['Acura TL Sedan 2012', 'Bugatti Veyron 16.4 Coupe 2009', 'Chevrolet Avalanche Crew Cab 2012', 'FIAT 500 Convertible 2012', 'GMC Yukon Hybrid SUV 2012', 'Hyundai Genesis Sedan 2012', 'Isuzu Ascender SUV 2008', 'Mazda Tribute SUV 2011', 'Rolls-Royce Ghost Sedan 2012']\n",
      "std = 8.69006271282919\n",
      "mean = 82.5765306122449\n"
     ]
    }
   ],
   "source": [
    "import statistics\n",
    "\n",
    "std  = statistics.stdev(y)\n",
    "mean = statistics.mean(y)\n",
    "\n",
    "gt_2stdv=[]\n",
    "ind_count=[]\n",
    "classID_name=[]\n",
    "for classID, count in freq.items():    \n",
    "    if count > (mean+std*2) or count < (mean-std*2):\n",
    "        gt_2stdv.append(classID)  \n",
    "        ind_count.append(count)\n",
    "        classID_name.append(class_name[int(classID)])\n",
    "print(\"Target ClassIDs that have records count out side 2stdv:\\n ID: {}\".format(gt_2stdv))\n",
    "print(\"Count: {}\".format(ind_count))\n",
    "print(\"name: {}\".format(classID_name))\n",
    "print(\"std = {}\".format(std))\n",
    "print(\"mean = {}\".format(mean))\n"
   ]
  },
  {
   "cell_type": "code",
   "execution_count": 184,
   "metadata": {},
   "outputs": [
    {
     "name": "stdout",
     "output_type": "stream",
     "text": [
      "# of Training Imgs: 8144\n",
      "# of Test Imgs: 8041\n"
     ]
    }
   ],
   "source": [
    "#check if there is any unbalance in train/test dataset\n",
    "train_test = annotation_matrix[:,5:]\n",
    "train = train_test[train_test[:,1]=='0',0].tolist()\n",
    "test = train_test[train_test[:,1]=='1',0].tolist()\n",
    "#train_test = train_test.tolist()\n",
    "print(\"# of Training Imgs: {}\".format(len(train)))\n",
    "print(\"# of Test Imgs: {}\".format(len(test)))"
   ]
  },
  {
   "cell_type": "code",
   "execution_count": 186,
   "metadata": {},
   "outputs": [
    {
     "name": "stdout",
     "output_type": "stream",
     "text": [
      "print the distribution for train\n"
     ]
    },
    {
     "data": {
      "image/png": "[encoded data removed]",
      "text/plain": [
       "<Figure size 432x288 with 1 Axes>"
      ]
     },
     "metadata": {},
     "output_type": "display_data"
    }
   ],
   "source": [
    "# print the distribution for train\n",
    "freq_train = CountFrequency(train) \n",
    "lists = sorted(freq_train.items()) # sorted by key, return a list of tuples\n",
    "x, y = zip(*lists)\n",
    "print('distribution for training dataset')\n",
    "plt.plot(x, y)\n",
    "plt.show()"
   ]
  },
  {
   "cell_type": "code",
   "execution_count": 187,
   "metadata": {},
   "outputs": [
    {
     "name": "stdout",
     "output_type": "stream",
     "text": [
      "print the distribution for test\n"
     ]
    },
    {
     "data": {
      "image/png": "[encoded data removed]",
      "text/plain": [
       "<Figure size 432x288 with 1 Axes>"
      ]
     },
     "metadata": {},
     "output_type": "display_data"
    }
   ],
   "source": [
    "# print the distribution for train\n",
    "freq_test = CountFrequency(test) \n",
    "lists = sorted(freq_test.items()) # sorted by key, return a list of tuples\n",
    "x, y = zip(*lists)\n",
    "print('distribution for test dataset')\n",
    "plt.plot(x, y)\n",
    "plt.show()"
   ]
  },
  {
   "cell_type": "code",
   "execution_count": null,
   "metadata": {},
   "outputs": [],
   "source": []
  },
  {
   "cell_type": "code",
   "execution_count": 232,
   "metadata": {},
   "outputs": [
    {
     "name": "stdout",
     "output_type": "stream",
     "text": [
      "target class: 0-AM General Hummer SUV 2000 || train vs test vol off by: 1\n",
      "target class: 1-Acura RL Sedan 2012 || train vs test vol off by: 0\n",
      "target class: 2-Acura TL Sedan 2012 || train vs test vol off by: 0\n",
      "target class: 3-Acura TL Type-S 2008 || train vs test vol off by: 0\n",
      "target class: 4-Acura TSX Sedan 2012 || train vs test vol off by: 1\n",
      "target class: 5-Acura Integra Type R 2001 || train vs test vol off by: 1\n",
      "target class: 6-Acura ZDX Hatchback 2012 || train vs test vol off by: 0\n",
      "target class: 7-Aston Martin V8 Vantage Convertible 2012 || train vs test vol off by: 0\n",
      "target class: 8-Aston Martin V8 Vantage Coupe 2012 || train vs test vol off by: 0\n",
      "target class: 9-Aston Martin Virage Convertible 2012 || train vs test vol off by: 0\n",
      "target class: 10-Aston Martin Virage Coupe 2012 || train vs test vol off by: 0\n",
      "target class: 11-Audi RS 4 Convertible 2008 || train vs test vol off by: 1\n",
      "target class: 12-Audi A5 Coupe 2012 || train vs test vol off by: 0\n",
      "target class: 13-Audi TTS Coupe 2012 || train vs test vol off by: 1\n",
      "target class: 14-Audi R8 Coupe 2012 || train vs test vol off by: 0\n",
      "target class: 15-Audi V8 Sedan 1994 || train vs test vol off by: 1\n",
      "target class: 16-Audi 100 Sedan 1994 || train vs test vol off by: 1\n",
      "target class: 17-Audi 100 Wagon 1994 || train vs test vol off by: 1\n",
      "target class: 18-Audi TT Hatchback 2011 || train vs test vol off by: 1\n",
      "target class: 19-Audi S6 Sedan 2011 || train vs test vol off by: 0\n",
      "target class: 20-Audi S5 Convertible 2012 || train vs test vol off by: 0\n",
      "target class: 21-Audi S5 Coupe 2012 || train vs test vol off by: 1\n",
      "target class: 22-Audi S4 Sedan 2012 || train vs test vol off by: 1\n",
      "target class: 23-Audi S4 Sedan 2007 || train vs test vol off by: 0\n",
      "target class: 24-Audi TT RS Coupe 2012 || train vs test vol off by: 1\n",
      "target class: 25-BMW ActiveHybrid 5 Sedan 2012 || train vs test vol off by: 0\n",
      "target class: 26-BMW 1 Series Convertible 2012 || train vs test vol off by: 1\n",
      "target class: 27-BMW 1 Series Coupe 2012 || train vs test vol off by: 0\n",
      "target class: 28-BMW 3 Series Sedan 2012 || train vs test vol off by: 1\n",
      "target class: 29-BMW 3 Series Wagon 2012 || train vs test vol off by: 1\n",
      "target class: 30-BMW 6 Series Convertible 2007 || train vs test vol off by: 0\n",
      "target class: 31-BMW X5 SUV 2007 || train vs test vol off by: 1\n",
      "target class: 32-BMW X6 SUV 2012 || train vs test vol off by: 0\n",
      "target class: 33-BMW M3 Coupe 2012 || train vs test vol off by: 1\n",
      "target class: 34-BMW M5 Sedan 2010 || train vs test vol off by: 0\n",
      "target class: 35-BMW M6 Convertible 2010 || train vs test vol off by: 0\n",
      "target class: 36-BMW X3 SUV 2012 || train vs test vol off by: 1\n",
      "target class: 37-BMW Z4 Convertible 2012 || train vs test vol off by: 1\n",
      "target class: 38-Bentley Continental Supersports Conv. Convertible 2012 || train vs test vol off by: 1\n",
      "target class: 39-Bentley Arnage Sedan 2009 || train vs test vol off by: 0\n",
      "target class: 40-Bentley Mulsanne Sedan 2011 || train vs test vol off by: 1\n",
      "target class: 41-Bentley Continental GT Coupe 2012 || train vs test vol off by: 1\n",
      "target class: 42-Bentley Continental GT Coupe 2007 || train vs test vol off by: 0\n",
      "target class: 43-Bentley Continental Flying Spur Sedan 2007 || train vs test vol off by: 1\n",
      "target class: 44-Bugatti Veyron 16.4 Convertible 2009 || train vs test vol off by: 1\n",
      "target class: 45-Bugatti Veyron 16.4 Coupe 2009 || train vs test vol off by: 1\n",
      "target class: 46-Buick Regal GS 2012 || train vs test vol off by: 0\n",
      "target class: 47-Buick Rainier SUV 2007 || train vs test vol off by: 1\n",
      "target class: 48-Buick Verano Sedan 2012 || train vs test vol off by: 1\n",
      "target class: 49-Buick Enclave SUV 2012 || train vs test vol off by: 0\n",
      "target class: 50-Cadillac CTS-V Sedan 2012 || train vs test vol off by: 0\n",
      "target class: 51-Cadillac SRX SUV 2012 || train vs test vol off by: 0\n",
      "target class: 52-Cadillac Escalade EXT Crew Cab 2007 || train vs test vol off by: 1\n",
      "target class: 53-Chevrolet Silverado 1500 Hybrid Crew Cab 2012 || train vs test vol off by: 0\n",
      "target class: 54-Chevrolet Corvette Convertible 2012 || train vs test vol off by: 1\n",
      "target class: 55-Chevrolet Corvette ZR1 2012 || train vs test vol off by: 1\n",
      "target class: 56-Chevrolet Corvette Ron Fellows Edition Z06 2007 || train vs test vol off by: 1\n",
      "target class: 57-Chevrolet Traverse SUV 2012 || train vs test vol off by: 0\n",
      "target class: 58-Chevrolet Camaro Convertible 2012 || train vs test vol off by: 1\n",
      "target class: 59-Chevrolet HHR SS 2010 || train vs test vol off by: 1\n",
      "target class: 60-Chevrolet Impala Sedan 2007 || train vs test vol off by: 0\n",
      "target class: 61-Chevrolet Tahoe Hybrid SUV 2012 || train vs test vol off by: 0\n",
      "target class: 62-Chevrolet Sonic Sedan 2012 || train vs test vol off by: 0\n",
      "target class: 63-Chevrolet Express Cargo Van 2007 || train vs test vol off by: 1\n",
      "target class: 64-Chevrolet Avalanche Crew Cab 2012 || train vs test vol off by: 0\n",
      "target class: 65-Chevrolet Cobalt SS 2010 || train vs test vol off by: 1\n",
      "target class: 66-Chevrolet Malibu Hybrid Sedan 2010 || train vs test vol off by: 1\n",
      "target class: 67-Chevrolet TrailBlazer SS 2009 || train vs test vol off by: 0\n",
      "target class: 68-Chevrolet Silverado 2500HD Regular Cab 2012 || train vs test vol off by: 0\n",
      "target class: 69-Chevrolet Silverado 1500 Classic Extended Cab 2007 || train vs test vol off by: 1\n",
      "target class: 70-Chevrolet Express Van 2007 || train vs test vol off by: 0\n",
      "target class: 71-Chevrolet Monte Carlo Coupe 2007 || train vs test vol off by: 0\n",
      "target class: 72-Chevrolet Malibu Sedan 2007 || train vs test vol off by: 1\n",
      "target class: 73-Chevrolet Silverado 1500 Extended Cab 2012 || train vs test vol off by: 1\n",
      "target class: 74-Chevrolet Silverado 1500 Regular Cab 2012 || train vs test vol off by: 0\n",
      "target class: 75-Chrysler Aspen SUV 2009 || train vs test vol off by: 1\n",
      "target class: 76-Chrysler Sebring Convertible 2010 || train vs test vol off by: 1\n",
      "target class: 77-Chrysler Town and Country Minivan 2012 || train vs test vol off by: 1\n",
      "target class: 78-Chrysler 300 SRT-8 2010 || train vs test vol off by: 1\n",
      "target class: 79-Chrysler Crossfire Convertible 2008 || train vs test vol off by: 0\n",
      "target class: 80-Chrysler PT Cruiser Convertible 2008 || train vs test vol off by: 0\n",
      "target class: 81-Daewoo Nubira Wagon 2002 || train vs test vol off by: 0\n",
      "target class: 82-Dodge Caliber Wagon 2012 || train vs test vol off by: 1\n",
      "target class: 83-Dodge Caliber Wagon 2007 || train vs test vol off by: 0\n",
      "target class: 84-Dodge Caravan Minivan 1997 || train vs test vol off by: 1\n",
      "target class: 85-Dodge Ram Pickup 3500 Crew Cab 2010 || train vs test vol off by: 1\n",
      "target class: 86-Dodge Ram Pickup 3500 Quad Cab 2009 || train vs test vol off by: 0\n",
      "target class: 87-Dodge Sprinter Cargo Van 2009 || train vs test vol off by: 1\n",
      "target class: 88-Dodge Journey SUV 2012 || train vs test vol off by: 0\n",
      "target class: 89-Dodge Dakota Crew Cab 2010 || train vs test vol off by: 0\n",
      "target class: 90-Dodge Dakota Club Cab 2007 || train vs test vol off by: 1\n",
      "target class: 91-Dodge Magnum Wagon 2008 || train vs test vol off by: 0\n",
      "target class: 92-Dodge Challenger SRT8 2011 || train vs test vol off by: 0\n",
      "target class: 93-Dodge Durango SUV 2012 || train vs test vol off by: 1\n",
      "target class: 94-Dodge Durango SUV 2007 || train vs test vol off by: 1\n",
      "target class: 95-Dodge Charger Sedan 2012 || train vs test vol off by: 0\n",
      "target class: 96-Dodge Charger SRT-8 2009 || train vs test vol off by: 0\n",
      "target class: 97-Eagle Talon Hatchback 1998 || train vs test vol off by: 0\n",
      "target class: 98-FIAT 500 Abarth 2012 || train vs test vol off by: 1\n",
      "target class: 99-FIAT 500 Convertible 2012 || train vs test vol off by: 1\n",
      "target class: 100-Ferrari FF Coupe 2012 || train vs test vol off by: 0\n",
      "target class: 101-Ferrari California Convertible 2012 || train vs test vol off by: 0\n",
      "target class: 102-Ferrari 458 Italia Convertible 2012 || train vs test vol off by: 1\n",
      "target class: 103-Ferrari 458 Italia Coupe 2012 || train vs test vol off by: 1\n",
      "target class: 104-Fisker Karma Sedan 2012 || train vs test vol off by: 1\n",
      "target class: 105-Ford F-450 Super Duty Crew Cab 2012 || train vs test vol off by: 1\n",
      "target class: 106-Ford Mustang Convertible 2007 || train vs test vol off by: 1\n"
     ]
    },
    {
     "name": "stdout",
     "output_type": "stream",
     "text": [
      "target class: 107-Ford Freestar Minivan 2007 || train vs test vol off by: 0\n",
      "target class: 108-Ford Expedition EL SUV 2009 || train vs test vol off by: 1\n",
      "target class: 109-Ford Edge SUV 2012 || train vs test vol off by: 0\n",
      "target class: 110-Ford Ranger SuperCab 2011 || train vs test vol off by: 0\n",
      "target class: 111-Ford GT Coupe 2006 || train vs test vol off by: 1\n",
      "target class: 112-Ford F-150 Regular Cab 2012 || train vs test vol off by: 1\n",
      "target class: 113-Ford F-150 Regular Cab 2007 || train vs test vol off by: 0\n",
      "target class: 114-Ford Focus Sedan 2007 || train vs test vol off by: 0\n",
      "target class: 115-Ford E-Series Wagon Van 2012 || train vs test vol off by: 1\n",
      "target class: 116-Ford Fiesta Sedan 2012 || train vs test vol off by: 1\n",
      "target class: 117-GMC Terrain SUV 2012 || train vs test vol off by: 1\n",
      "target class: 118-GMC Savana Van 2012 || train vs test vol off by: 0\n",
      "target class: 119-GMC Yukon Hybrid SUV 2012 || train vs test vol off by: 1\n",
      "target class: 120-GMC Acadia SUV 2012 || train vs test vol off by: 1\n",
      "target class: 121-GMC Canyon Extended Cab 2012 || train vs test vol off by: 0\n",
      "target class: 122-Geo Metro Convertible 1993 || train vs test vol off by: 1\n",
      "target class: 123-HUMMER H3T Crew Cab 2010 || train vs test vol off by: 0\n",
      "target class: 124-HUMMER H2 SUT Crew Cab 2009 || train vs test vol off by: 1\n",
      "target class: 125-Honda Odyssey Minivan 2012 || train vs test vol off by: 0\n",
      "target class: 126-Honda Odyssey Minivan 2007 || train vs test vol off by: 0\n",
      "target class: 127-Honda Accord Coupe 2012 || train vs test vol off by: 0\n",
      "target class: 128-Honda Accord Sedan 2012 || train vs test vol off by: 1\n",
      "target class: 129-Hyundai Veloster Hatchback 2012 || train vs test vol off by: 0\n",
      "target class: 130-Hyundai Santa Fe SUV 2012 || train vs test vol off by: 0\n",
      "target class: 131-Hyundai Tucson SUV 2012 || train vs test vol off by: 1\n",
      "target class: 132-Hyundai Veracruz SUV 2012 || train vs test vol off by: 0\n",
      "target class: 133-Hyundai Sonata Hybrid Sedan 2012 || train vs test vol off by: 1\n",
      "target class: 134-Hyundai Elantra Sedan 2007 || train vs test vol off by: 0\n",
      "target class: 135-Hyundai Accent Sedan 2012 || train vs test vol off by: 0\n",
      "target class: 136-Hyundai Genesis Sedan 2012 || train vs test vol off by: 1\n",
      "target class: 137-Hyundai Sonata Sedan 2012 || train vs test vol off by: 1\n",
      "target class: 138-Hyundai Elantra Touring Hatchback 2012 || train vs test vol off by: 1\n",
      "target class: 139-Hyundai Azera Sedan 2012 || train vs test vol off by: 0\n",
      "target class: 140-Infiniti G Coupe IPL 2012 || train vs test vol off by: 0\n",
      "target class: 141-Infiniti QX56 SUV 2011 || train vs test vol off by: 1\n",
      "target class: 142-Isuzu Ascender SUV 2008 || train vs test vol off by: 0\n",
      "target class: 143-Jaguar XK XKR 2012 || train vs test vol off by: 1\n",
      "target class: 144-Jeep Patriot SUV 2012 || train vs test vol off by: 0\n",
      "target class: 145-Jeep Wrangler SUV 2012 || train vs test vol off by: 0\n",
      "target class: 146-Jeep Liberty SUV 2012 || train vs test vol off by: 1\n",
      "target class: 147-Jeep Grand Cherokee SUV 2012 || train vs test vol off by: 0\n",
      "target class: 148-Jeep Compass SUV 2012 || train vs test vol off by: 1\n",
      "target class: 149-Lamborghini Reventon Coupe 2008 || train vs test vol off by: 0\n",
      "target class: 150-Lamborghini Aventador Coupe 2012 || train vs test vol off by: 1\n",
      "target class: 151-Lamborghini Gallardo LP 570-4 Superleggera 2012 || train vs test vol off by: 1\n",
      "target class: 152-Lamborghini Diablo Coupe 2001 || train vs test vol off by: 1\n",
      "target class: 153-Land Rover Range Rover SUV 2012 || train vs test vol off by: 1\n",
      "target class: 154-Land Rover LR2 SUV 2012 || train vs test vol off by: 1\n",
      "target class: 155-Lincoln Town Car Sedan 2011 || train vs test vol off by: 0\n",
      "target class: 156-MINI Cooper Roadster Convertible 2012 || train vs test vol off by: 1\n",
      "target class: 157-Maybach Landaulet Convertible 2012 || train vs test vol off by: 0\n",
      "target class: 158-Mazda Tribute SUV 2011 || train vs test vol off by: 0\n",
      "target class: 159-McLaren MP4-12C Coupe 2012 || train vs test vol off by: 0\n",
      "target class: 160-Mercedes-Benz 300-Class Convertible 1993 || train vs test vol off by: 0\n",
      "target class: 161-Mercedes-Benz C-Class Sedan 2012 || train vs test vol off by: 1\n",
      "target class: 162-Mercedes-Benz SL-Class Coupe 2009 || train vs test vol off by: 1\n",
      "target class: 163-Mercedes-Benz E-Class Sedan 2012 || train vs test vol off by: 1\n",
      "target class: 164-Mercedes-Benz S-Class Sedan 2012 || train vs test vol off by: 1\n",
      "target class: 165-Mercedes-Benz Sprinter Van 2012 || train vs test vol off by: 0\n",
      "target class: 166-Mitsubishi Lancer Sedan 2012 || train vs test vol off by: 1\n",
      "target class: 167-Nissan Leaf Hatchback 2012 || train vs test vol off by: 0\n",
      "target class: 168-Nissan NV Passenger Van 2012 || train vs test vol off by: 1\n",
      "target class: 169-Nissan Juke Hatchback 2012 || train vs test vol off by: 0\n",
      "target class: 170-Nissan 240SX Coupe 1998 || train vs test vol off by: 0\n",
      "target class: 171-Plymouth Neon Coupe 1999 || train vs test vol off by: 0\n",
      "target class: 172-Porsche Panamera Sedan 2012 || train vs test vol off by: 1\n",
      "target class: 173-Ram C/V Cargo Van Minivan 2012 || train vs test vol off by: 0\n",
      "target class: 174-Rolls-Royce Phantom Drophead Coupe Convertible 2012 || train vs test vol off by: 1\n",
      "target class: 175-Rolls-Royce Ghost Sedan 2012 || train vs test vol off by: 1\n",
      "target class: 176-Rolls-Royce Phantom Sedan 2012 || train vs test vol off by: 0\n",
      "target class: 177-Scion xD Hatchback 2012 || train vs test vol off by: 1\n",
      "target class: 178-Spyker C8 Convertible 2009 || train vs test vol off by: 0\n",
      "target class: 179-Spyker C8 Coupe 2009 || train vs test vol off by: 1\n",
      "target class: 180-Suzuki Aerio Sedan 2007 || train vs test vol off by: 0\n",
      "target class: 181-Suzuki Kizashi Sedan 2012 || train vs test vol off by: 0\n",
      "target class: 182-Suzuki SX4 Hatchback 2012 || train vs test vol off by: 0\n",
      "target class: 183-Suzuki SX4 Sedan 2012 || train vs test vol off by: 1\n",
      "target class: 184-Tesla Model S Sedan 2012 || train vs test vol off by: 1\n",
      "target class: 185-Toyota Sequoia SUV 2012 || train vs test vol off by: 1\n",
      "target class: 186-Toyota Camry Sedan 2012 || train vs test vol off by: 1\n",
      "target class: 187-Toyota Corolla Sedan 2012 || train vs test vol off by: 1\n",
      "target class: 188-Toyota 4Runner SUV 2012 || train vs test vol off by: 1\n",
      "target class: 189-Volkswagen Golf Hatchback 2012 || train vs test vol off by: 0\n",
      "target class: 190-Volkswagen Golf Hatchback 1991 || train vs test vol off by: 0\n",
      "target class: 191-Volkswagen Beetle Hatchback 2012 || train vs test vol off by: 1\n",
      "target class: 192-Volvo C30 Hatchback 2012 || train vs test vol off by: 1\n",
      "target class: 193-Volvo 240 Sedan 1993 || train vs test vol off by: 1\n",
      "target class: 194-Volvo XC90 SUV 2007 || train vs test vol off by: 0\n",
      "target class: 195-smart fortwo Convertible 2012 || train vs test vol off by: 0\n",
      "the average difference between\n",
      " training & testing is off by 0.5255102040816326 \n"
     ]
    }
   ],
   "source": [
    "freq_train_val = list(freq_train.values())\n",
    "freq_test_val = list(freq_test.values())\n",
    "classID = list(freq_train.keys())\n",
    "off_by_array = []\n",
    "for i in range(len(freq_train)):\n",
    "    off_by = abs(freq_train_val[i]-freq_test_val[i])\n",
    "    off_by_array.append(off_by)\n",
    "    classID_name = class_name[i]\n",
    "    \n",
    "    print(\"target class: {}-{} || train vs test vol off by: {}\".format(i,classID_name,off_by))\n",
    "print(\"the average difference between\\n training & testing is off by {} \".format(np.average(off_by_array)))    "
   ]
  },
  {
   "cell_type": "code",
   "execution_count": 218,
   "metadata": {},
   "outputs": [
    {
     "data": {
      "text/plain": [
       "'4'"
      ]
     },
     "execution_count": 218,
     "metadata": {},
     "output_type": "execute_result"
    }
   ],
   "source": [
    "classID = list(freq_train.keys())\n",
    "classID[3]"
   ]
  },
  {
   "cell_type": "code",
   "execution_count": 219,
   "metadata": {},
   "outputs": [
    {
     "data": {
      "text/plain": [
       "['1',\n",
       " '2',\n",
       " '3',\n",
       " '4',\n",
       " '5',\n",
       " '6',\n",
       " '7',\n",
       " '8',\n",
       " '9',\n",
       " '10',\n",
       " '11',\n",
       " '12',\n",
       " '13',\n",
       " '14',\n",
       " '15',\n",
       " '16',\n",
       " '17',\n",
       " '18',\n",
       " '19',\n",
       " '20',\n",
       " '21',\n",
       " '22',\n",
       " '23',\n",
       " '24',\n",
       " '25',\n",
       " '26',\n",
       " '27',\n",
       " '28',\n",
       " '29',\n",
       " '30',\n",
       " '31',\n",
       " '32',\n",
       " '33',\n",
       " '34',\n",
       " '35',\n",
       " '36',\n",
       " '37',\n",
       " '38',\n",
       " '39',\n",
       " '40',\n",
       " '41',\n",
       " '42',\n",
       " '43',\n",
       " '44',\n",
       " '45',\n",
       " '46',\n",
       " '47',\n",
       " '48',\n",
       " '49',\n",
       " '50',\n",
       " '51',\n",
       " '52',\n",
       " '53',\n",
       " '54',\n",
       " '55',\n",
       " '56',\n",
       " '57',\n",
       " '58',\n",
       " '59',\n",
       " '60',\n",
       " '61',\n",
       " '62',\n",
       " '63',\n",
       " '64',\n",
       " '65',\n",
       " '66',\n",
       " '67',\n",
       " '68',\n",
       " '69',\n",
       " '70',\n",
       " '71',\n",
       " '72',\n",
       " '73',\n",
       " '74',\n",
       " '75',\n",
       " '76',\n",
       " '77',\n",
       " '78',\n",
       " '79',\n",
       " '80',\n",
       " '81',\n",
       " '82',\n",
       " '83',\n",
       " '84',\n",
       " '85',\n",
       " '86',\n",
       " '87',\n",
       " '88',\n",
       " '89',\n",
       " '90',\n",
       " '91',\n",
       " '92',\n",
       " '93',\n",
       " '94',\n",
       " '95',\n",
       " '96',\n",
       " '97',\n",
       " '98',\n",
       " '99',\n",
       " '100',\n",
       " '101',\n",
       " '102',\n",
       " '103',\n",
       " '104',\n",
       " '105',\n",
       " '106',\n",
       " '107',\n",
       " '108',\n",
       " '109',\n",
       " '110',\n",
       " '111',\n",
       " '112',\n",
       " '113',\n",
       " '114',\n",
       " '115',\n",
       " '116',\n",
       " '117',\n",
       " '118',\n",
       " '119',\n",
       " '120',\n",
       " '121',\n",
       " '122',\n",
       " '123',\n",
       " '124',\n",
       " '125',\n",
       " '126',\n",
       " '127',\n",
       " '128',\n",
       " '129',\n",
       " '130',\n",
       " '131',\n",
       " '132',\n",
       " '133',\n",
       " '134',\n",
       " '135',\n",
       " '136',\n",
       " '137',\n",
       " '138',\n",
       " '139',\n",
       " '140',\n",
       " '141',\n",
       " '142',\n",
       " '143',\n",
       " '144',\n",
       " '145',\n",
       " '146',\n",
       " '147',\n",
       " '148',\n",
       " '149',\n",
       " '150',\n",
       " '151',\n",
       " '152',\n",
       " '153',\n",
       " '154',\n",
       " '155',\n",
       " '156',\n",
       " '157',\n",
       " '158',\n",
       " '159',\n",
       " '160',\n",
       " '161',\n",
       " '162',\n",
       " '163',\n",
       " '164',\n",
       " '165',\n",
       " '166',\n",
       " '167',\n",
       " '168',\n",
       " '169',\n",
       " '170',\n",
       " '171',\n",
       " '172',\n",
       " '173',\n",
       " '174',\n",
       " '175',\n",
       " '176',\n",
       " '177',\n",
       " '178',\n",
       " '179',\n",
       " '180',\n",
       " '181',\n",
       " '182',\n",
       " '183',\n",
       " '184',\n",
       " '185',\n",
       " '186',\n",
       " '187',\n",
       " '188',\n",
       " '189',\n",
       " '190',\n",
       " '191',\n",
       " '192',\n",
       " '193',\n",
       " '194',\n",
       " '195',\n",
       " '196']"
      ]
     },
     "execution_count": 219,
     "metadata": {},
     "output_type": "execute_result"
    }
   ],
   "source": [
    "classID"
   ]
  },
  {
   "cell_type": "code",
   "execution_count": null,
   "metadata": {},
   "outputs": [],
   "source": []
  },
  {
   "cell_type": "code",
   "execution_count": null,
   "metadata": {},
   "outputs": [],
   "source": []
  },
  {
   "cell_type": "code",
   "execution_count": null,
   "metadata": {},
   "outputs": [],
   "source": []
  },
  {
   "cell_type": "code",
   "execution_count": null,
   "metadata": {},
   "outputs": [],
   "source": []
  },
  {
   "cell_type": "code",
   "execution_count": null,
   "metadata": {},
   "outputs": [],
   "source": []
  },
  {
   "cell_type": "code",
   "execution_count": null,
   "metadata": {},
   "outputs": [],
   "source": []
  },
  {
   "cell_type": "code",
   "execution_count": null,
   "metadata": {},
   "outputs": [],
   "source": []
  },
  {
   "cell_type": "code",
   "execution_count": null,
   "metadata": {},
   "outputs": [],
   "source": []
  }
 ],
 "metadata": {
  "colab": {
   "name": "DL_Project.ipynb",
   "private_outputs": true,
   "provenance": []
  },
  "kernelspec": {
   "display_name": "Python 3",
   "language": "python",
   "name": "python3"
  },
  "language_info": {
   "codemirror_mode": {
    "name": "ipython",
    "version": 3
   },
   "file_extension": ".py",
   "mimetype": "text/x-python",
   "name": "python",
   "nbconvert_exporter": "python",
   "pygments_lexer": "ipython3",
   "version": "3.7.4"
  }
 },
 "nbformat": 4,
 "nbformat_minor": 1
}
