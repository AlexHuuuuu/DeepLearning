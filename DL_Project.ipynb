{
  "nbformat": 4,
  "nbformat_minor": 0,
  "metadata": {
    "colab": {
      "name": "DL_Project.ipynb",
      "provenance": [],
      "private_outputs": true
    },
    "kernelspec": {
      "name": "python3",
      "display_name": "Python 3"
    }
  },
  "cells": [
    {
      "cell_type": "code",
      "metadata": {
        "id": "IE9SvYFiYwJ6",
        "colab_type": "code",
        "colab": {}
      },
      "source": [
        "from google.colab import drive\n",
        "drive.mount('/content/drive')"
      ],
      "execution_count": 0,
      "outputs": []
    },
    {
      "cell_type": "code",
      "metadata": {
        "id": "1vfXzhcWmdr2",
        "colab_type": "code",
        "colab": {}
      },
      "source": [
        "import scipy.io as sio\n",
        "import numpy as np"
      ],
      "execution_count": 0,
      "outputs": []
    },
    {
      "cell_type": "code",
      "metadata": {
        "id": "6tNKj9phmd2W",
        "colab_type": "code",
        "colab": {}
      },
      "source": [
        "scipy_sio = sio.loadmat('/content/drive/My Drive/Colab Notebooks/cars_annos.mat', squeeze_me = True)"
      ],
      "execution_count": 0,
      "outputs": []
    },
    {
      "cell_type": "code",
      "metadata": {
        "id": "unDqmPApsdBR",
        "colab_type": "code",
        "colab": {}
      },
      "source": [
        "scipy_sio"
      ],
      "execution_count": 0,
      "outputs": []
    },
    {
      "cell_type": "code",
      "metadata": {
        "id": "UgBBK3-IsdE3",
        "colab_type": "code",
        "colab": {}
      },
      "source": [
        "#extract class_names\n",
        "class_name = scipy_sio['class_names']\n",
        "class_name[0:10]\n",
        "# has linkage to annotation['class']"
      ],
      "execution_count": 0,
      "outputs": []
    },
    {
      "cell_type": "code",
      "metadata": {
        "id": "Ex6avH0rsrmS",
        "colab_type": "code",
        "colab": {}
      },
      "source": [
        "#extract annotations, contains 7 variables\n",
        "annotation = scipy_sio['annotations']\n",
        "annotation[0:5]\n",
        "# 7 values:\n",
        "# 0: relative_im_path:  image location & name\n",
        "# 1: bbox_x1:           Min x-value of the bounding box, in pixels\n",
        "# 2: bbox_y1:           Min y-value of the bounding box, in pixels\n",
        "# 3: bbox_x2:           Max x-value of the bounding box, in pixels\n",
        "# 4: bbox_y2:           Max y-value of the bounding box, in pixels\n",
        "# 5: class:             Target model, ex: img 000001-000003 have class = 1, so it is 'AM General Hummer SUV 2000'\n",
        "# 6: test:              test = 1, train = 0\n"
      ],
      "execution_count": 0,
      "outputs": []
    },
    {
      "cell_type": "code",
      "metadata": {
        "id": "7s-zxSv6sdK7",
        "colab_type": "code",
        "colab": {}
      },
      "source": [
        "#convert annotation [array of tuples] to 1D array\n",
        "annotation_array = [a for b in annotation for a in b]\n",
        "annotation_array[0:14]"
      ],
      "execution_count": 0,
      "outputs": []
    },
    {
      "cell_type": "code",
      "metadata": {
        "id": "UXxMcGwCsdOQ",
        "colab_type": "code",
        "colab": {}
      },
      "source": [
        "#convert 1D array into 7d array/matrix\n",
        "annotation_matrix = np.reshape(annotation_array, (-1,7))\n",
        "#annotation_matrix = annotation_matrix.tolist()    #remove dtype\n",
        "annotation_matrix[0:5]"
      ],
      "execution_count": 0,
      "outputs": []
    },
    {
      "cell_type": "code",
      "metadata": {
        "id": "mt1uu24j5Mhx",
        "colab_type": "code",
        "colab": {}
      },
      "source": [
        "# ex: extract class variable\n",
        "tgt_class = annotation_matrix[:,5]\n",
        "tgt_class = tgt_class.tolist()"
      ],
      "execution_count": 0,
      "outputs": []
    },
    {
      "cell_type": "code",
      "metadata": {
        "id": "U8u24Naz77jc",
        "colab_type": "code",
        "colab": {}
      },
      "source": [
        "len(np.unique(tgt_class))\n",
        "#there are 196 unique classes in annotation matrix"
      ],
      "execution_count": 0,
      "outputs": []
    },
    {
      "cell_type": "code",
      "metadata": {
        "id": "sx5mueBy8h2k",
        "colab_type": "code",
        "colab": {}
      },
      "source": [
        "len(np.unique(class_name))\n",
        "#there are 196 different classes in array class_name"
      ],
      "execution_count": 0,
      "outputs": []
    },
    {
      "cell_type": "code",
      "metadata": {
        "id": "CnTdnx6d-2H9",
        "colab_type": "code",
        "colab": {}
      },
      "source": [
        ""
      ],
      "execution_count": 0,
      "outputs": []
    }
  ]
}